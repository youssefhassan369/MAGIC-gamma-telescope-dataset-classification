{
  "nbformat": 4,
  "nbformat_minor": 0,
  "metadata": {
    "colab": {
      "name": "ai_assignment.ipynb",
      "provenance": [],
      "collapsed_sections": [],
      "include_colab_link": true
    },
    "kernelspec": {
      "name": "python3",
      "display_name": "Python 3"
    },
    "language_info": {
      "name": "python"
    }
  },
  "cells": [
    {
      "cell_type": "markdown",
      "metadata": {
        "id": "view-in-github",
        "colab_type": "text"
      },
      "source": [
        "<a href=\"https://colab.research.google.com/github/youssefhassan369/MAGIC-gamma-telescope-dataset-classification/blob/main/ai_assignment.ipynb\" target=\"_parent\"><img src=\"https://colab.research.google.com/assets/colab-badge.svg\" alt=\"Open In Colab\"/></a>"
      ]
    },
    {
      "cell_type": "markdown",
      "source": [
        "# Imports"
      ],
      "metadata": {
        "id": "5G_HnNlOYCkZ"
      }
    },
    {
      "cell_type": "code",
      "source": [
        "from google.colab import drive\n",
        "import os\n",
        "import pandas as pd\n",
        "import numpy as np\n",
        "\n",
        "from sklearn.model_selection import cross_val_score, StratifiedKFold\n",
        "import matplotlib.pyplot as plt"
      ],
      "metadata": {
        "id": "S358HepkYCBu"
      },
      "execution_count": null,
      "outputs": []
    },
    {
      "cell_type": "markdown",
      "source": [
        "# Read and process Data"
      ],
      "metadata": {
        "id": "TIfGvG4Ae4og"
      }
    },
    {
      "cell_type": "code",
      "execution_count": null,
      "metadata": {
        "id": "JKjJv9tYDfIk",
        "colab": {
          "base_uri": "https://localhost:8080/"
        },
        "outputId": "c2383f35-d1cb-4b8c-f5fb-294971b28888"
      },
      "outputs": [
        {
          "output_type": "stream",
          "name": "stdout",
          "text": [
            "Mounted at /content/drive\n"
          ]
        }
      ],
      "source": [
        "drive.mount('/content/drive')\n"
      ]
    },
    {
      "cell_type": "markdown",
      "source": [
        "### Import data from file"
      ],
      "metadata": {
        "id": "BfXsBtX7ezrb"
      }
    },
    {
      "cell_type": "code",
      "source": [
        "filename = '/content/drive/MyDrive/magic_dataset/magic04.data'\n",
        "magic_df = pd.read_csv(filename) \n",
        "\n",
        "magic_df"
      ],
      "metadata": {
        "colab": {
          "base_uri": "https://localhost:8080/",
          "height": 424
        },
        "id": "5gr_OyGZYSLa",
        "outputId": "378fc538-f181-4da6-a177-ce4167c4caae"
      },
      "execution_count": null,
      "outputs": [
        {
          "output_type": "execute_result",
          "data": {
            "text/plain": [
              "        28.7967   16.0021  2.6449  0.3918  0.1982   27.7004    22.011  \\\n",
              "0       31.6036   11.7235  2.5185  0.5303  0.3773   26.2722   23.8238   \n",
              "1      162.0520  136.0310  4.0612  0.0374  0.0187  116.7410  -64.8580   \n",
              "2       23.8172    9.5728  2.3385  0.6147  0.3922   27.2107   -6.4633   \n",
              "3       75.1362   30.9205  3.1611  0.3168  0.1832   -5.5277   28.5525   \n",
              "4       51.6240   21.1502  2.9085  0.2420  0.1340   50.8761   43.1887   \n",
              "...         ...       ...     ...     ...     ...       ...       ...   \n",
              "19014   21.3846   10.9170  2.6161  0.5857  0.3934   15.2618   11.5245   \n",
              "19015   28.9452    6.7020  2.2672  0.5351  0.2784   37.0816   13.1853   \n",
              "19016   75.4455   47.5305  3.4483  0.1417  0.0549   -9.3561   41.0562   \n",
              "19017  120.5135   76.9018  3.9939  0.0944  0.0683    5.8043  -93.5224   \n",
              "19018  187.1814   53.0014  3.2093  0.2876  0.1539 -167.3125 -168.4558   \n",
              "\n",
              "       -8.2027   40.092   81.8828  g  \n",
              "0      -9.9574   6.3609  205.2610  g  \n",
              "1     -45.2160  76.9600  256.7880  g  \n",
              "2      -7.1513  10.4490  116.7370  g  \n",
              "3      21.8393   4.6480  356.4620  g  \n",
              "4       9.8145   3.6130  238.0980  g  \n",
              "...        ...      ...       ... ..  \n",
              "19014   2.8766   2.4229  106.8258  h  \n",
              "19015  -2.9632  86.7975  247.4560  h  \n",
              "19016  -9.4662  30.2987  256.5166  h  \n",
              "19017 -63.8389  84.6874  408.3166  h  \n",
              "19018  31.4755  52.7310  272.3174  h  \n",
              "\n",
              "[19019 rows x 11 columns]"
            ],
            "text/html": [
              "\n",
              "  <div id=\"df-d996146e-3f8b-4289-89de-3e70b3099311\">\n",
              "    <div class=\"colab-df-container\">\n",
              "      <div>\n",
              "<style scoped>\n",
              "    .dataframe tbody tr th:only-of-type {\n",
              "        vertical-align: middle;\n",
              "    }\n",
              "\n",
              "    .dataframe tbody tr th {\n",
              "        vertical-align: top;\n",
              "    }\n",
              "\n",
              "    .dataframe thead th {\n",
              "        text-align: right;\n",
              "    }\n",
              "</style>\n",
              "<table border=\"1\" class=\"dataframe\">\n",
              "  <thead>\n",
              "    <tr style=\"text-align: right;\">\n",
              "      <th></th>\n",
              "      <th>28.7967</th>\n",
              "      <th>16.0021</th>\n",
              "      <th>2.6449</th>\n",
              "      <th>0.3918</th>\n",
              "      <th>0.1982</th>\n",
              "      <th>27.7004</th>\n",
              "      <th>22.011</th>\n",
              "      <th>-8.2027</th>\n",
              "      <th>40.092</th>\n",
              "      <th>81.8828</th>\n",
              "      <th>g</th>\n",
              "    </tr>\n",
              "  </thead>\n",
              "  <tbody>\n",
              "    <tr>\n",
              "      <th>0</th>\n",
              "      <td>31.6036</td>\n",
              "      <td>11.7235</td>\n",
              "      <td>2.5185</td>\n",
              "      <td>0.5303</td>\n",
              "      <td>0.3773</td>\n",
              "      <td>26.2722</td>\n",
              "      <td>23.8238</td>\n",
              "      <td>-9.9574</td>\n",
              "      <td>6.3609</td>\n",
              "      <td>205.2610</td>\n",
              "      <td>g</td>\n",
              "    </tr>\n",
              "    <tr>\n",
              "      <th>1</th>\n",
              "      <td>162.0520</td>\n",
              "      <td>136.0310</td>\n",
              "      <td>4.0612</td>\n",
              "      <td>0.0374</td>\n",
              "      <td>0.0187</td>\n",
              "      <td>116.7410</td>\n",
              "      <td>-64.8580</td>\n",
              "      <td>-45.2160</td>\n",
              "      <td>76.9600</td>\n",
              "      <td>256.7880</td>\n",
              "      <td>g</td>\n",
              "    </tr>\n",
              "    <tr>\n",
              "      <th>2</th>\n",
              "      <td>23.8172</td>\n",
              "      <td>9.5728</td>\n",
              "      <td>2.3385</td>\n",
              "      <td>0.6147</td>\n",
              "      <td>0.3922</td>\n",
              "      <td>27.2107</td>\n",
              "      <td>-6.4633</td>\n",
              "      <td>-7.1513</td>\n",
              "      <td>10.4490</td>\n",
              "      <td>116.7370</td>\n",
              "      <td>g</td>\n",
              "    </tr>\n",
              "    <tr>\n",
              "      <th>3</th>\n",
              "      <td>75.1362</td>\n",
              "      <td>30.9205</td>\n",
              "      <td>3.1611</td>\n",
              "      <td>0.3168</td>\n",
              "      <td>0.1832</td>\n",
              "      <td>-5.5277</td>\n",
              "      <td>28.5525</td>\n",
              "      <td>21.8393</td>\n",
              "      <td>4.6480</td>\n",
              "      <td>356.4620</td>\n",
              "      <td>g</td>\n",
              "    </tr>\n",
              "    <tr>\n",
              "      <th>4</th>\n",
              "      <td>51.6240</td>\n",
              "      <td>21.1502</td>\n",
              "      <td>2.9085</td>\n",
              "      <td>0.2420</td>\n",
              "      <td>0.1340</td>\n",
              "      <td>50.8761</td>\n",
              "      <td>43.1887</td>\n",
              "      <td>9.8145</td>\n",
              "      <td>3.6130</td>\n",
              "      <td>238.0980</td>\n",
              "      <td>g</td>\n",
              "    </tr>\n",
              "    <tr>\n",
              "      <th>...</th>\n",
              "      <td>...</td>\n",
              "      <td>...</td>\n",
              "      <td>...</td>\n",
              "      <td>...</td>\n",
              "      <td>...</td>\n",
              "      <td>...</td>\n",
              "      <td>...</td>\n",
              "      <td>...</td>\n",
              "      <td>...</td>\n",
              "      <td>...</td>\n",
              "      <td>...</td>\n",
              "    </tr>\n",
              "    <tr>\n",
              "      <th>19014</th>\n",
              "      <td>21.3846</td>\n",
              "      <td>10.9170</td>\n",
              "      <td>2.6161</td>\n",
              "      <td>0.5857</td>\n",
              "      <td>0.3934</td>\n",
              "      <td>15.2618</td>\n",
              "      <td>11.5245</td>\n",
              "      <td>2.8766</td>\n",
              "      <td>2.4229</td>\n",
              "      <td>106.8258</td>\n",
              "      <td>h</td>\n",
              "    </tr>\n",
              "    <tr>\n",
              "      <th>19015</th>\n",
              "      <td>28.9452</td>\n",
              "      <td>6.7020</td>\n",
              "      <td>2.2672</td>\n",
              "      <td>0.5351</td>\n",
              "      <td>0.2784</td>\n",
              "      <td>37.0816</td>\n",
              "      <td>13.1853</td>\n",
              "      <td>-2.9632</td>\n",
              "      <td>86.7975</td>\n",
              "      <td>247.4560</td>\n",
              "      <td>h</td>\n",
              "    </tr>\n",
              "    <tr>\n",
              "      <th>19016</th>\n",
              "      <td>75.4455</td>\n",
              "      <td>47.5305</td>\n",
              "      <td>3.4483</td>\n",
              "      <td>0.1417</td>\n",
              "      <td>0.0549</td>\n",
              "      <td>-9.3561</td>\n",
              "      <td>41.0562</td>\n",
              "      <td>-9.4662</td>\n",
              "      <td>30.2987</td>\n",
              "      <td>256.5166</td>\n",
              "      <td>h</td>\n",
              "    </tr>\n",
              "    <tr>\n",
              "      <th>19017</th>\n",
              "      <td>120.5135</td>\n",
              "      <td>76.9018</td>\n",
              "      <td>3.9939</td>\n",
              "      <td>0.0944</td>\n",
              "      <td>0.0683</td>\n",
              "      <td>5.8043</td>\n",
              "      <td>-93.5224</td>\n",
              "      <td>-63.8389</td>\n",
              "      <td>84.6874</td>\n",
              "      <td>408.3166</td>\n",
              "      <td>h</td>\n",
              "    </tr>\n",
              "    <tr>\n",
              "      <th>19018</th>\n",
              "      <td>187.1814</td>\n",
              "      <td>53.0014</td>\n",
              "      <td>3.2093</td>\n",
              "      <td>0.2876</td>\n",
              "      <td>0.1539</td>\n",
              "      <td>-167.3125</td>\n",
              "      <td>-168.4558</td>\n",
              "      <td>31.4755</td>\n",
              "      <td>52.7310</td>\n",
              "      <td>272.3174</td>\n",
              "      <td>h</td>\n",
              "    </tr>\n",
              "  </tbody>\n",
              "</table>\n",
              "<p>19019 rows × 11 columns</p>\n",
              "</div>\n",
              "      <button class=\"colab-df-convert\" onclick=\"convertToInteractive('df-d996146e-3f8b-4289-89de-3e70b3099311')\"\n",
              "              title=\"Convert this dataframe to an interactive table.\"\n",
              "              style=\"display:none;\">\n",
              "        \n",
              "  <svg xmlns=\"http://www.w3.org/2000/svg\" height=\"24px\"viewBox=\"0 0 24 24\"\n",
              "       width=\"24px\">\n",
              "    <path d=\"M0 0h24v24H0V0z\" fill=\"none\"/>\n",
              "    <path d=\"M18.56 5.44l.94 2.06.94-2.06 2.06-.94-2.06-.94-.94-2.06-.94 2.06-2.06.94zm-11 1L8.5 8.5l.94-2.06 2.06-.94-2.06-.94L8.5 2.5l-.94 2.06-2.06.94zm10 10l.94 2.06.94-2.06 2.06-.94-2.06-.94-.94-2.06-.94 2.06-2.06.94z\"/><path d=\"M17.41 7.96l-1.37-1.37c-.4-.4-.92-.59-1.43-.59-.52 0-1.04.2-1.43.59L10.3 9.45l-7.72 7.72c-.78.78-.78 2.05 0 2.83L4 21.41c.39.39.9.59 1.41.59.51 0 1.02-.2 1.41-.59l7.78-7.78 2.81-2.81c.8-.78.8-2.07 0-2.86zM5.41 20L4 18.59l7.72-7.72 1.47 1.35L5.41 20z\"/>\n",
              "  </svg>\n",
              "      </button>\n",
              "      \n",
              "  <style>\n",
              "    .colab-df-container {\n",
              "      display:flex;\n",
              "      flex-wrap:wrap;\n",
              "      gap: 12px;\n",
              "    }\n",
              "\n",
              "    .colab-df-convert {\n",
              "      background-color: #E8F0FE;\n",
              "      border: none;\n",
              "      border-radius: 50%;\n",
              "      cursor: pointer;\n",
              "      display: none;\n",
              "      fill: #1967D2;\n",
              "      height: 32px;\n",
              "      padding: 0 0 0 0;\n",
              "      width: 32px;\n",
              "    }\n",
              "\n",
              "    .colab-df-convert:hover {\n",
              "      background-color: #E2EBFA;\n",
              "      box-shadow: 0px 1px 2px rgba(60, 64, 67, 0.3), 0px 1px 3px 1px rgba(60, 64, 67, 0.15);\n",
              "      fill: #174EA6;\n",
              "    }\n",
              "\n",
              "    [theme=dark] .colab-df-convert {\n",
              "      background-color: #3B4455;\n",
              "      fill: #D2E3FC;\n",
              "    }\n",
              "\n",
              "    [theme=dark] .colab-df-convert:hover {\n",
              "      background-color: #434B5C;\n",
              "      box-shadow: 0px 1px 3px 1px rgba(0, 0, 0, 0.15);\n",
              "      filter: drop-shadow(0px 1px 2px rgba(0, 0, 0, 0.3));\n",
              "      fill: #FFFFFF;\n",
              "    }\n",
              "  </style>\n",
              "\n",
              "      <script>\n",
              "        const buttonEl =\n",
              "          document.querySelector('#df-d996146e-3f8b-4289-89de-3e70b3099311 button.colab-df-convert');\n",
              "        buttonEl.style.display =\n",
              "          google.colab.kernel.accessAllowed ? 'block' : 'none';\n",
              "\n",
              "        async function convertToInteractive(key) {\n",
              "          const element = document.querySelector('#df-d996146e-3f8b-4289-89de-3e70b3099311');\n",
              "          const dataTable =\n",
              "            await google.colab.kernel.invokeFunction('convertToInteractive',\n",
              "                                                     [key], {});\n",
              "          if (!dataTable) return;\n",
              "\n",
              "          const docLinkHtml = 'Like what you see? Visit the ' +\n",
              "            '<a target=\"_blank\" href=https://colab.research.google.com/notebooks/data_table.ipynb>data table notebook</a>'\n",
              "            + ' to learn more about interactive tables.';\n",
              "          element.innerHTML = '';\n",
              "          dataTable['output_type'] = 'display_data';\n",
              "          await google.colab.output.renderOutput(dataTable, element);\n",
              "          const docLink = document.createElement('div');\n",
              "          docLink.innerHTML = docLinkHtml;\n",
              "          element.appendChild(docLink);\n",
              "        }\n",
              "      </script>\n",
              "    </div>\n",
              "  </div>\n",
              "  "
            ]
          },
          "metadata": {},
          "execution_count": 8
        }
      ]
    },
    {
      "cell_type": "markdown",
      "source": [
        "### Balancing data"
      ],
      "metadata": {
        "id": "4cJJEFFae7H2"
      }
    },
    {
      "cell_type": "code",
      "source": [
        "g = magic_df.groupby('g')\n",
        "magic_df = pd.DataFrame(g.apply(lambda x: x.sample(g.size().min()).reset_index(drop=True)))"
      ],
      "metadata": {
        "id": "XWE4QO-IZyOy"
      },
      "execution_count": null,
      "outputs": []
    },
    {
      "cell_type": "markdown",
      "source": [
        "### Splitting data"
      ],
      "metadata": {
        "id": "6dx8xzH4e_nu"
      }
    },
    {
      "cell_type": "code",
      "source": [
        "from sklearn.model_selection import train_test_split\n",
        "\n",
        "train_df, test_df = train_test_split(magic_df, test_size=0.3, shuffle=True)\n",
        "\n",
        "test_data = test_df.loc[:, test_df.columns != \"g\"].to_numpy()\n",
        "test_labels = test_df['g'].values\n",
        "\n",
        "train_df, validation_df = train_test_split(train_df, test_size=0.1, shuffle=True)\n",
        "train_data = train_df.loc[:, train_df.columns != \"g\"].to_numpy()\n",
        "validation_data = validation_df.loc[:, train_df.columns != \"g\"].to_numpy()\n",
        "\n",
        "train_labels = train_df['g'].values\n",
        "validation_labels = validation_df['g'].values\n",
        "\n",
        "# Todo split train to validation check (sklearn.model_selection)"
      ],
      "metadata": {
        "id": "iPiNKRqmbnQ5"
      },
      "execution_count": null,
      "outputs": []
    },
    {
      "cell_type": "markdown",
      "source": [
        "### Scale data"
      ],
      "metadata": {
        "id": "Yi14zPnafBf-"
      }
    },
    {
      "cell_type": "code",
      "source": [
        "from sklearn.preprocessing import MinMaxScaler\n",
        "\n",
        "scaler = MinMaxScaler(feature_range=(0,1))\n",
        "scaled_train_samples = scaler.fit_transform((train_data))\n",
        "scaled_test_samples = scaler.fit_transform((test_data))\n",
        "scaled_validation_samples = scaler.fit_transform((validation_data))"
      ],
      "metadata": {
        "id": "ag97PNmhdPmX"
      },
      "execution_count": null,
      "outputs": []
    },
    {
      "cell_type": "markdown",
      "source": [
        "# 3. Classification"
      ],
      "metadata": {
        "id": "Dpew-29lqE0L"
      }
    },
    {
      "cell_type": "markdown",
      "source": [
        "## (a) Decision Tree"
      ],
      "metadata": {
        "id": "qPTbdOGGqJQq"
      }
    },
    {
      "cell_type": "markdown",
      "source": [
        "### Train the model"
      ],
      "metadata": {
        "id": "J6NBzCQmrlUK"
      }
    },
    {
      "cell_type": "code",
      "source": [
        "from sklearn import tree\n",
        "\n",
        "tree_classifier = tree.DecisionTreeClassifier()\n",
        "tree_classifier = tree_classifier.fit(scaled_train_samples, train_labels)"
      ],
      "metadata": {
        "id": "e9x8rCY6qL7o"
      },
      "execution_count": null,
      "outputs": []
    },
    {
      "cell_type": "markdown",
      "source": [
        "### Predict the test data"
      ],
      "metadata": {
        "id": "XFgOGV2IrnjX"
      }
    },
    {
      "cell_type": "code",
      "source": [
        "expected_tree_labels = tree_classifier.predict(scaled_test_samples)\n",
        "\n",
        "expected_tree_labels"
      ],
      "metadata": {
        "colab": {
          "base_uri": "https://localhost:8080/"
        },
        "id": "3aIudUI8rrbG",
        "outputId": "a24e9817-a84b-4abc-c4bf-8a3da0794d1f"
      },
      "execution_count": null,
      "outputs": [
        {
          "output_type": "execute_result",
          "data": {
            "text/plain": [
              "array(['h', 'h', 'h', ..., 'g', 'h', 'h'], dtype=object)"
            ]
          },
          "metadata": {},
          "execution_count": 9
        }
      ]
    },
    {
      "cell_type": "markdown",
      "source": [
        "## (b)  AdaBoost"
      ],
      "metadata": {
        "id": "l6sZZtUHuEAj"
      }
    },
    {
      "cell_type": "markdown",
      "source": [
        "### Train the model"
      ],
      "metadata": {
        "id": "hMbtM5SHuEAk"
      }
    },
    {
      "cell_type": "code",
      "source": [
        "from sklearn.ensemble import AdaBoostClassifier\n",
        "\n",
        "n_estimators= list(range(325,335, 1))\n",
        "est_vals = []\n",
        "val = 0\n",
        "max_n = -1\n",
        "for est in n_estimators:\n",
        "  adaboost_classifier = AdaBoostClassifier(n_estimators=est, random_state=0)\n",
        "  score = cross_val_score(adaboost_classifier, scaled_train_samples, train_labels, cv=StratifiedKFold(n_splits=10)).mean()\n",
        "  est_vals.append(score)\n",
        "  if score > val:\n",
        "    val = score\n",
        "    max_n = est\n",
        "\n",
        "plt.plot(n_estimators, est_vals)\n",
        "print(f\"Max n_estimator: {max_n}, with value: {val}\")\n",
        "\n"
      ],
      "metadata": {
        "id": "BsiVby0juEAk",
        "colab": {
          "base_uri": "https://localhost:8080/",
          "height": 282
        },
        "outputId": "09e6928f-1368-4263-c109-0288d370ad05"
      },
      "execution_count": null,
      "outputs": [
        {
          "output_type": "stream",
          "name": "stdout",
          "text": [
            "Max n_estimator: 333, with value: 0.8295742780421692\n"
          ]
        },
        {
          "output_type": "display_data",
          "data": {
            "text/plain": [
              "<Figure size 432x288 with 1 Axes>"
            ],
            "image/png": "[encoded data removed]"
          },
          "metadata": {
            "needs_background": "light"
          }
        }
      ]
    },
    {
      "cell_type": "markdown",
      "source": [
        "### Predict the test data"
      ],
      "metadata": {
        "id": "mXXb2HDTuEAl"
      }
    },
    {
      "cell_type": "code",
      "source": [
        "tuned_adaboost_classifier = AdaBoostClassifier(n_estimators=max_n, random_state=0)\n",
        "tuned_adaboost_classifier.fit(scaled_train_samples, train_labels)\n",
        "expected_adaboost_labels = tuned_adaboost_classifier.predict(scaled_test_samples)\n",
        "\n",
        "expected_adaboost_labels"
      ],
      "metadata": {
        "id": "QZprg0k-uEAm",
        "colab": {
          "base_uri": "https://localhost:8080/"
        },
        "outputId": "0c00aded-4033-4eab-bd2a-960701f06139"
      },
      "execution_count": null,
      "outputs": [
        {
          "output_type": "execute_result",
          "data": {
            "text/plain": [
              "array(['h', 'h', 'g', ..., 'g', 'h', 'h'], dtype=object)"
            ]
          },
          "metadata": {},
          "execution_count": 47
        }
      ]
    },
    {
      "cell_type": "markdown",
      "source": [
        "## (c) K-NN"
      ],
      "metadata": {
        "id": "54KrD07Br1Lt"
      }
    },
    {
      "cell_type": "markdown",
      "source": [
        "### Train the data"
      ],
      "metadata": {
        "id": "dkiPfdigr7rg"
      }
    },
    {
      "cell_type": "code",
      "source": [
        "from sklearn.neighbors import KNeighborsClassifier\n",
        "\n",
        "possible_ks = list(range(1,30, 1))\n",
        "est_vals = []\n",
        "val = 0\n",
        "max_n_knn = -1\n",
        "for k in possible_ks:\n",
        "  knn_classifier = KNeighborsClassifier(n_neighbors=k)\n",
        "  score = cross_val_score(knn_classifier, scaled_train_samples, train_labels, cv=StratifiedKFold(n_splits=10)).mean()\n",
        "  est_vals.append(score)\n",
        "  if score > val:\n",
        "    val = score\n",
        "    max_n_knn = k\n",
        "\n",
        "plt.plot(possible_ks, est_vals)\n",
        "print(f\"Max n_estimator: {max_n_knn}, with value: {val}\")"
      ],
      "metadata": {
        "colab": {
          "base_uri": "https://localhost:8080/",
          "height": 283
        },
        "id": "el_BKDHLr9qb",
        "outputId": "eb612da8-493f-4da1-bb61-054cec834e97"
      },
      "execution_count": null,
      "outputs": [
        {
          "output_type": "stream",
          "name": "stdout",
          "text": [
            "Max n_estimator: 23, with value: 0.8182999298399845\n"
          ]
        },
        {
          "output_type": "display_data",
          "data": {
            "text/plain": [
              "<Figure size 432x288 with 1 Axes>"
            ],
            "image/png": "[encoded data removed]"
          },
          "metadata": {
            "needs_background": "light"
          }
        }
      ]
    },
    {
      "cell_type": "markdown",
      "source": [
        "### Predict the data"
      ],
      "metadata": {
        "id": "PPl08WiPuDoq"
      }
    },
    {
      "cell_type": "code",
      "source": [
        "tuned_knn_classifier = KNeighborsClassifier(n_neighbors=max_n_knn)\n",
        "tuned_knn_classifier = tuned_knn_classifier.fit(scaled_train_samples, train_labels)\n",
        "\n",
        "expected_knn_labels = tuned_knn_classifier.predict(scaled_test_samples)\n",
        "\n",
        "expected_knn_labels"
      ],
      "metadata": {
        "colab": {
          "base_uri": "https://localhost:8080/"
        },
        "id": "RTM1_PDSuGhY",
        "outputId": "a884d9e0-ad39-4120-fa10-34e9cae32664"
      },
      "execution_count": null,
      "outputs": [
        {
          "output_type": "execute_result",
          "data": {
            "text/plain": [
              "array(['h', 'g', 'g', ..., 'g', 'h', 'h'], dtype=object)"
            ]
          },
          "metadata": {},
          "execution_count": 13
        }
      ]
    },
    {
      "cell_type": "markdown",
      "source": [
        "# (d) Random Forest"
      ],
      "metadata": {
        "id": "XJdwOXk0d9X4"
      }
    },
    {
      "cell_type": "code",
      "source": [
        "from sklearn.model_selection import cross_val_score, StratifiedKFold\n",
        "from sklearn.ensemble import RandomForestClassifier\n",
        "\n",
        "import matplotlib.pyplot as plt\n",
        "#initial interval was 1:250:step=20\n",
        "n_estimators= list(range(190,210, 1))\n",
        "est_vals = []\n",
        "val = 0\n",
        "max_n = -1\n",
        "for est in n_estimators:\n",
        "  RandomForest_classifier = RandomForestClassifier(n_estimators=est, random_state=0)\n",
        "  score = cross_val_score(RandomForest_classifier, scaled_train_samples, train_labels, cv=StratifiedKFold(n_splits=10)).mean()\n",
        "  est_vals.append(score)\n",
        "  if score > val:\n",
        "    val = score\n",
        "    max_n = est\n",
        "plt.plot(n_estimators, est_vals)\n",
        "print(f\"Max n_estimator: {max_n}, with value: {val}\")"
      ],
      "metadata": {
        "id": "ZBt88wvod7Mp",
        "colab": {
          "base_uri": "https://localhost:8080/",
          "height": 282
        },
        "outputId": "17108bf1-a0cf-4b3d-b12c-fc73bb8fc923"
      },
      "execution_count": null,
      "outputs": [
        {
          "output_type": "stream",
          "name": "stdout",
          "text": [
            "Max n_estimator: 191, with value: 0.8603121134507175\n"
          ]
        },
        {
          "output_type": "display_data",
          "data": {
            "text/plain": [
              "<Figure size 432x288 with 1 Axes>"
            ],
            "image/png": "[encoded data removed]"
          },
          "metadata": {
            "needs_background": "light"
          }
        }
      ]
    },
    {
      "cell_type": "markdown",
      "source": [
        "Training the model"
      ],
      "metadata": {
        "id": "HkDK-vE4eN5W"
      }
    },
    {
      "cell_type": "code",
      "source": [
        "RandomForest_classifier = RandomForestClassifier(n_estimators = max_n) \n",
        "RandomForest_classifier.fit(scaled_train_samples, train_labels)"
      ],
      "metadata": {
        "id": "uSHLS2rHeI0f",
        "colab": {
          "base_uri": "https://localhost:8080/"
        },
        "outputId": "b827e086-a796-4bf1-e732-6acc4ab8a8e7"
      },
      "execution_count": null,
      "outputs": [
        {
          "output_type": "execute_result",
          "data": {
            "text/plain": [
              "RandomForestClassifier(n_estimators=191)"
            ]
          },
          "metadata": {},
          "execution_count": 15
        }
      ]
    },
    {
      "cell_type": "markdown",
      "source": [
        "Testing the model"
      ],
      "metadata": {
        "id": "BQxY6gKmeSrH"
      }
    },
    {
      "cell_type": "code",
      "source": [
        "expected_random_forest_labels = RandomForest_classifier.predict(scaled_test_samples)\n",
        "expected_random_forest_labels"
      ],
      "metadata": {
        "id": "4V53qHGSeJ7q",
        "colab": {
          "base_uri": "https://localhost:8080/"
        },
        "outputId": "04afbd0f-c5be-4ff7-b300-b536c0a56a28"
      },
      "execution_count": null,
      "outputs": [
        {
          "output_type": "execute_result",
          "data": {
            "text/plain": [
              "array(['h', 'h', 'g', ..., 'g', 'h', 'h'], dtype=object)"
            ]
          },
          "metadata": {},
          "execution_count": 16
        }
      ]
    },
    {
      "cell_type": "markdown",
      "source": [
        "## (e) Naive Bayes"
      ],
      "metadata": {
        "id": "odmU51CHuxj1"
      }
    },
    {
      "cell_type": "markdown",
      "source": [
        "### Training the model"
      ],
      "metadata": {
        "id": "ESIHlwPpu1S9"
      }
    },
    {
      "cell_type": "code",
      "source": [
        "from sklearn.naive_bayes import GaussianNB\n",
        "\n",
        "gnb = GaussianNB()\n",
        "gnb = gnb.fit(scaled_train_samples, train_labels)"
      ],
      "metadata": {
        "id": "F44zbkkPu7og"
      },
      "execution_count": null,
      "outputs": []
    },
    {
      "cell_type": "markdown",
      "source": [
        "### Testing the model"
      ],
      "metadata": {
        "id": "QP0c63gLvimC"
      }
    },
    {
      "cell_type": "code",
      "source": [
        "expected_gnb_labels = gnb.predict(scaled_test_samples)\n",
        "\n",
        "expected_gnb_labels"
      ],
      "metadata": {
        "colab": {
          "base_uri": "https://localhost:8080/"
        },
        "id": "ds4lvoh1vk8B",
        "outputId": "28c74d6a-a709-4e7d-d247-88b1d1961250"
      },
      "execution_count": null,
      "outputs": [
        {
          "output_type": "execute_result",
          "data": {
            "text/plain": [
              "array(['h', 'g', 'g', ..., 'g', 'h', 'h'], dtype='<U1')"
            ]
          },
          "metadata": {},
          "execution_count": 18
        }
      ]
    },
    {
      "cell_type": "markdown",
      "source": [
        "# 5. Report Requirements"
      ],
      "metadata": {
        "id": "CrbsM9IUsQNd"
      }
    },
    {
      "cell_type": "markdown",
      "source": [
        "TO BE CONTINUED :: THIS IS ONLY A PLACEHOLDER"
      ],
      "metadata": {
        "id": "rqP1pOlbtS9o"
      }
    },
    {
      "cell_type": "code",
      "source": [
        "def calc_accuracy(true_labels, expected_labels):\n",
        "  size = len(true_labels)\n",
        "  count = 0\n",
        "  for i in range(size):\n",
        "    if true_labels[i] == expected_labels[i]:\n",
        "      count += 1\n",
        "  \n",
        "  return count / size"
      ],
      "metadata": {
        "id": "vezvGMhYsTEC"
      },
      "execution_count": null,
      "outputs": []
    },
    {
      "cell_type": "code",
      "source": [
        "def generate_confusion_matrix(true_labels,predicted_labels):\n",
        "  tp=0\n",
        "  tn=0\n",
        "  fp=0\n",
        "  fn=0\n",
        "  for i in range(len(true_labels)):\n",
        "    if true_labels[i]==predicted_labels[i]:\n",
        "      if predicted_labels[i]=='g':\n",
        "        tp+=1\n",
        "      else:\n",
        "        tn+=1\n",
        "    else:\n",
        "      if predicted_labels[i]=='g':\n",
        "        fp+=1\n",
        "      else:\n",
        "        fn+=1\n",
        "  \n",
        "  return tp,tn,fp,fn"
      ],
      "metadata": {
        "id": "vimLCtjse0uh"
      },
      "execution_count": null,
      "outputs": []
    },
    {
      "cell_type": "code",
      "source": [
        "def generate_report(true_labels, predicted_labels):\n",
        "  tp, tn, fp , fn= generate_confusion_matrix(true_labels,predicted_labels)\n",
        "\n",
        "  accuracy = (tp + tn) / (tp + fp + fn + tn)\n",
        "  percision = tp / (tp + fp)\n",
        "  recall = tp / (tp + fn)\n",
        "  spcificity = tn / (tn + fp)\n",
        "  f_score = 2 * (percision * recall) / (percision + recall)\n",
        "\n",
        "  return {\n",
        "      \"accuracy\": accuracy,\n",
        "      \"percision\": percision,\n",
        "      \"recall\": recall,\n",
        "      \"spcificity\": spcificity,\n",
        "      \"f_score\": f_score\n",
        "  }"
      ],
      "metadata": {
        "id": "h-SBEcatrnT_"
      },
      "execution_count": null,
      "outputs": []
    },
    {
      "cell_type": "code",
      "source": [
        "tree_report = generate_report(test_labels ,expected_tree_labels)\n",
        "adaboost_report = generate_report(test_labels ,expected_adaboost_labels)\n",
        "random_forest_report = generate_report(test_labels ,expected_random_forest_labels)\n",
        "knn_report = generate_report(test_labels ,expected_knn_labels)\n",
        "naive_bayes_report = generate_report(test_labels ,expected_gnb_labels)\n",
        "\n",
        "reports = {\"Decision Tree\": tree_report,  \"Adaboost\": adaboost_report, \"Random Forest\" :random_forest_report,\"KNN\" : knn_report , \"Naive Bayes\": naive_bayes_report}\n",
        "\n",
        "  "
      ],
      "metadata": {
        "id": "UFW6TVB1e5v-"
      },
      "execution_count": null,
      "outputs": []
    },
    {
      "cell_type": "code",
      "source": [
        "import matplotlib.pyplot as plt\n",
        "\n",
        "metrics = [\"accuracy\", \"percision\", \"recall\", \"spcificity\",\"f_score\"]\n",
        "reports_names = [\"Decision Tree\", \"Adaboost\", \"Random Forest\", \"KNN\", \"Naive Bayes\"]\n",
        "for metric in metrics:\n",
        "  print(f\"metric: {metric}\")\n",
        "\n",
        "  fig, ax = plt.subplots(figsize=(5,5))\n",
        "  ax.set_title(metric)\n",
        "\n",
        "  vals = []\n",
        "  for report_item in reports.items():\n",
        "    title = report_item[0]\n",
        "    metric_val = report_item[1][metric]\n",
        "    print(f\"{title}: {metric_val}\")\n",
        "    vals.append(metric_val)\n",
        "  print('-------------------------------------')\n",
        "  plt.bar(reports_names, vals,width = 0.4)\n"
      ],
      "metadata": {
        "colab": {
          "base_uri": "https://localhost:8080/",
          "height": 1000
        },
        "id": "vS6sLSuDg59Q",
        "outputId": "ae73f0a6-0047-4dfb-9815-81d3fbdc4028"
      },
      "execution_count": null,
      "outputs": [
        {
          "output_type": "stream",
          "name": "stdout",
          "text": [
            "metric: accuracy\n",
            "Decision Tree: 0.7027161724395714\n",
            "Adaboost: 0.7994019436830302\n",
            "Random Forest: 0.8091203588337902\n",
            "KNN: 0.8091203588337902\n",
            "Naive Bayes: 0.6463992025915773\n",
            "-------------------------------------\n",
            "metric: percision\n",
            "Decision Tree: 0.7802631578947369\n",
            "Adaboost: 0.8163265306122449\n",
            "Random Forest: 0.8664756446991404\n",
            "KNN: 0.8012246820536976\n",
            "Naive Bayes: 0.6265157639450283\n",
            "-------------------------------------\n",
            "metric: recall\n",
            "Decision Tree: 0.5799511002444988\n",
            "Adaboost: 0.78239608801956\n",
            "Random Forest: 0.7393643031784841\n",
            "KNN: 0.8317848410757946\n",
            "Naive Bayes: 0.7579462102689487\n",
            "-------------------------------------\n",
            "metric: spcificity\n",
            "Decision Tree: 0.8302845528455285\n",
            "Adaboost: 0.8170731707317073\n",
            "Random Forest: 0.8816056910569106\n",
            "KNN: 0.7855691056910569\n",
            "Naive Bayes: 0.5304878048780488\n",
            "-------------------------------------\n",
            "metric: f_score\n",
            "Decision Tree: 0.6653576437587657\n",
            "Adaboost: 0.7990012484394508\n",
            "Random Forest: 0.7978891820580476\n",
            "KNN: 0.8162188099808062\n",
            "Naive Bayes: 0.6859924762115512\n",
            "-------------------------------------\n"
          ]
        },
        {
          "output_type": "display_data",
          "data": {
            "text/plain": [
              "<Figure size 360x360 with 1 Axes>"
            ],
            "image/png": "[encoded data removed]"
          },
          "metadata": {
            "needs_background": "light"
          }
        },
        {
          "output_type": "display_data",
          "data": {
            "text/plain": [
              "<Figure size 360x360 with 1 Axes>"
            ],
            "image/png": "[encoded data removed]"
          },
          "metadata": {
            "needs_background": "light"
          }
        },
        {
          "output_type": "display_data",
          "data": {
            "text/plain": [
              "<Figure size 360x360 with 1 Axes>"
            ],
            "image/png": "[encoded data removed]"
          },
          "metadata": {
            "needs_background": "light"
          }
        },
        {
          "output_type": "display_data",
          "data": {
            "text/plain": [
              "<Figure size 360x360 with 1 Axes>"
            ],
            "image/png": "[encoded data removed]"
          },
          "metadata": {
            "needs_background": "light"
          }
        },
        {
          "output_type": "display_data",
          "data": {
            "text/plain": [
              "<Figure size 360x360 with 1 Axes>"
            ],
            "image/png": "[encoded data removed]"
          },
          "metadata": {
            "needs_background": "light"
          }
        }
      ]
    },
    {
      "cell_type": "markdown",
      "source": [
        "# 6. Bonus"
      ],
      "metadata": {
        "id": "YgffRbX1uYfT"
      }
    },
    {
      "cell_type": "code",
      "source": [
        "import keras\n",
        "from keras import backend as K\n",
        "from keras.models import Sequential\n",
        "from keras.layers import Dense, Activation\n",
        "from keras.optimizers import adam_v2\n",
        "from keras.metrics import categorical_crossentropy"
      ],
      "metadata": {
        "id": "iMFtLHXBuavI"
      },
      "execution_count": null,
      "outputs": []
    },
    {
      "cell_type": "code",
      "source": [
        "from inspect import Parameter\n",
        "\n",
        "model = Sequential([\n",
        "     Dense(512, input_shape=(10,), activation='relu'),\n",
        "     Dense(64,  activation='relu'), \n",
        "     Dense(2,  activation='softmax'),  \n",
        "])"
      ],
      "metadata": {
        "id": "7NPK1cJzuq4O"
      },
      "execution_count": null,
      "outputs": []
    },
    {
      "cell_type": "code",
      "source": [
        "model.compile(adam_v2.Adam(lr=0.0001), loss='sparse_categorical_crossentropy', metrics=['accuracy'])"
      ],
      "metadata": {
        "colab": {
          "base_uri": "https://localhost:8080/"
        },
        "id": "pm4vXq4ZuuU2",
        "outputId": "a43e0c4e-cb0f-4881-d61c-7cd99c6a689c"
      },
      "execution_count": null,
      "outputs": [
        {
          "output_type": "stream",
          "name": "stderr",
          "text": [
            "/usr/local/lib/python3.7/dist-packages/keras/optimizer_v2/adam.py:105: UserWarning: The `lr` argument is deprecated, use `learning_rate` instead.\n",
            "  super(Adam, self).__init__(name, **kwargs)\n"
          ]
        }
      ]
    },
    {
      "cell_type": "code",
      "source": [
        "train_labels_numerical = []\n",
        "\n",
        "for num in train_labels:\n",
        "  if num == 'g':\n",
        "    train_labels_numerical.append(0)\n",
        "  else:\n",
        "    train_labels_numerical.append(1)\n",
        "\n",
        "\n",
        "train_labels_numerical = np.array(train_labels_numerical)\n",
        "print(train_labels_numerical.shape)"
      ],
      "metadata": {
        "colab": {
          "base_uri": "https://localhost:8080/"
        },
        "id": "Zb3srgynvKXk",
        "outputId": "6b3b139a-57eb-4a6b-fa29-782a57d2f725"
      },
      "execution_count": null,
      "outputs": [
        {
          "output_type": "stream",
          "name": "stdout",
          "text": [
            "(8426,)\n"
          ]
        }
      ]
    },
    {
      "cell_type": "code",
      "source": [
        "model.fit(scaled_train_samples, train_labels_numerical,validation_split =0.1,  batch_size = 10, epochs = 50, shuffle = True, verbose = 2)"
      ],
      "metadata": {
        "colab": {
          "base_uri": "https://localhost:8080/"
        },
        "id": "gqTw5wp2uvk5",
        "outputId": "036246bd-8ae2-4a86-ad0f-5f1cca9c9712"
      },
      "execution_count": null,
      "outputs": [
        {
          "output_type": "stream",
          "name": "stdout",
          "text": [
            "Epoch 1/50\n",
            "759/759 - 2s - loss: 0.5493 - accuracy: 0.7531 - val_loss: 0.4960 - val_accuracy: 0.7604 - 2s/epoch - 3ms/step\n",
            "Epoch 2/50\n",
            "759/759 - 1s - loss: 0.4740 - accuracy: 0.7769 - val_loss: 0.4607 - val_accuracy: 0.7758 - 1s/epoch - 2ms/step\n",
            "Epoch 3/50\n",
            "759/759 - 1s - loss: 0.4491 - accuracy: 0.7835 - val_loss: 0.4383 - val_accuracy: 0.8007 - 1s/epoch - 2ms/step\n",
            "Epoch 4/50\n",
            "759/759 - 1s - loss: 0.4350 - accuracy: 0.7970 - val_loss: 0.4305 - val_accuracy: 0.7900 - 1s/epoch - 2ms/step\n",
            "Epoch 5/50\n",
            "759/759 - 1s - loss: 0.4266 - accuracy: 0.8025 - val_loss: 0.4158 - val_accuracy: 0.8078 - 1s/epoch - 2ms/step\n",
            "Epoch 6/50\n",
            "759/759 - 1s - loss: 0.4208 - accuracy: 0.8059 - val_loss: 0.4073 - val_accuracy: 0.8114 - 1s/epoch - 2ms/step\n",
            "Epoch 7/50\n",
            "759/759 - 1s - loss: 0.4144 - accuracy: 0.8106 - val_loss: 0.4031 - val_accuracy: 0.8161 - 1s/epoch - 2ms/step\n",
            "Epoch 8/50\n",
            "759/759 - 1s - loss: 0.4114 - accuracy: 0.8106 - val_loss: 0.3965 - val_accuracy: 0.8161 - 1s/epoch - 2ms/step\n",
            "Epoch 9/50\n",
            "759/759 - 1s - loss: 0.4073 - accuracy: 0.8152 - val_loss: 0.3945 - val_accuracy: 0.8221 - 1s/epoch - 2ms/step\n",
            "Epoch 10/50\n",
            "759/759 - 1s - loss: 0.4041 - accuracy: 0.8180 - val_loss: 0.3912 - val_accuracy: 0.8161 - 1s/epoch - 2ms/step\n",
            "Epoch 11/50\n",
            "759/759 - 1s - loss: 0.4020 - accuracy: 0.8167 - val_loss: 0.3879 - val_accuracy: 0.8233 - 1s/epoch - 2ms/step\n",
            "Epoch 12/50\n",
            "759/759 - 1s - loss: 0.3979 - accuracy: 0.8213 - val_loss: 0.3863 - val_accuracy: 0.8280 - 1s/epoch - 2ms/step\n",
            "Epoch 13/50\n",
            "759/759 - 1s - loss: 0.3949 - accuracy: 0.8237 - val_loss: 0.3811 - val_accuracy: 0.8244 - 1s/epoch - 2ms/step\n",
            "Epoch 14/50\n",
            "759/759 - 1s - loss: 0.3940 - accuracy: 0.8241 - val_loss: 0.3800 - val_accuracy: 0.8268 - 1s/epoch - 2ms/step\n",
            "Epoch 15/50\n",
            "759/759 - 1s - loss: 0.3911 - accuracy: 0.8251 - val_loss: 0.3765 - val_accuracy: 0.8256 - 1s/epoch - 2ms/step\n",
            "Epoch 16/50\n",
            "759/759 - 1s - loss: 0.3892 - accuracy: 0.8259 - val_loss: 0.3747 - val_accuracy: 0.8339 - 1s/epoch - 2ms/step\n",
            "Epoch 17/50\n",
            "759/759 - 1s - loss: 0.3871 - accuracy: 0.8272 - val_loss: 0.3780 - val_accuracy: 0.8304 - 1s/epoch - 2ms/step\n",
            "Epoch 18/50\n",
            "759/759 - 1s - loss: 0.3843 - accuracy: 0.8287 - val_loss: 0.3755 - val_accuracy: 0.8280 - 1s/epoch - 2ms/step\n",
            "Epoch 19/50\n",
            "759/759 - 1s - loss: 0.3823 - accuracy: 0.8298 - val_loss: 0.3705 - val_accuracy: 0.8375 - 1s/epoch - 2ms/step\n",
            "Epoch 20/50\n",
            "759/759 - 1s - loss: 0.3801 - accuracy: 0.8337 - val_loss: 0.3772 - val_accuracy: 0.8292 - 1s/epoch - 2ms/step\n",
            "Epoch 21/50\n",
            "759/759 - 1s - loss: 0.3786 - accuracy: 0.8321 - val_loss: 0.3668 - val_accuracy: 0.8399 - 1s/epoch - 2ms/step\n",
            "Epoch 22/50\n",
            "759/759 - 1s - loss: 0.3768 - accuracy: 0.8303 - val_loss: 0.3669 - val_accuracy: 0.8399 - 1s/epoch - 2ms/step\n",
            "Epoch 23/50\n",
            "759/759 - 1s - loss: 0.3764 - accuracy: 0.8307 - val_loss: 0.3645 - val_accuracy: 0.8410 - 1s/epoch - 2ms/step\n",
            "Epoch 24/50\n",
            "759/759 - 1s - loss: 0.3749 - accuracy: 0.8341 - val_loss: 0.3638 - val_accuracy: 0.8339 - 1s/epoch - 2ms/step\n",
            "Epoch 25/50\n",
            "759/759 - 2s - loss: 0.3722 - accuracy: 0.8348 - val_loss: 0.3681 - val_accuracy: 0.8304 - 2s/epoch - 2ms/step\n",
            "Epoch 26/50\n",
            "759/759 - 1s - loss: 0.3699 - accuracy: 0.8334 - val_loss: 0.3639 - val_accuracy: 0.8292 - 1s/epoch - 2ms/step\n",
            "Epoch 27/50\n",
            "759/759 - 1s - loss: 0.3696 - accuracy: 0.8352 - val_loss: 0.3596 - val_accuracy: 0.8422 - 1s/epoch - 2ms/step\n",
            "Epoch 28/50\n",
            "759/759 - 1s - loss: 0.3678 - accuracy: 0.8370 - val_loss: 0.3621 - val_accuracy: 0.8363 - 1s/epoch - 2ms/step\n",
            "Epoch 29/50\n",
            "759/759 - 1s - loss: 0.3689 - accuracy: 0.8354 - val_loss: 0.3804 - val_accuracy: 0.8351 - 1s/epoch - 2ms/step\n",
            "Epoch 30/50\n",
            "759/759 - 1s - loss: 0.3644 - accuracy: 0.8370 - val_loss: 0.3594 - val_accuracy: 0.8375 - 1s/epoch - 2ms/step\n",
            "Epoch 31/50\n",
            "759/759 - 1s - loss: 0.3655 - accuracy: 0.8354 - val_loss: 0.3611 - val_accuracy: 0.8387 - 1s/epoch - 2ms/step\n",
            "Epoch 32/50\n",
            "759/759 - 1s - loss: 0.3631 - accuracy: 0.8366 - val_loss: 0.3578 - val_accuracy: 0.8422 - 1s/epoch - 2ms/step\n",
            "Epoch 33/50\n",
            "759/759 - 1s - loss: 0.3646 - accuracy: 0.8385 - val_loss: 0.3550 - val_accuracy: 0.8493 - 1s/epoch - 2ms/step\n",
            "Epoch 34/50\n",
            "759/759 - 1s - loss: 0.3630 - accuracy: 0.8389 - val_loss: 0.3570 - val_accuracy: 0.8304 - 1s/epoch - 2ms/step\n",
            "Epoch 35/50\n",
            "759/759 - 1s - loss: 0.3622 - accuracy: 0.8407 - val_loss: 0.3547 - val_accuracy: 0.8470 - 1s/epoch - 2ms/step\n",
            "Epoch 36/50\n",
            "759/759 - 1s - loss: 0.3615 - accuracy: 0.8357 - val_loss: 0.3580 - val_accuracy: 0.8339 - 1s/epoch - 2ms/step\n",
            "Epoch 37/50\n",
            "759/759 - 1s - loss: 0.3592 - accuracy: 0.8403 - val_loss: 0.3565 - val_accuracy: 0.8363 - 1s/epoch - 2ms/step\n",
            "Epoch 38/50\n",
            "759/759 - 1s - loss: 0.3576 - accuracy: 0.8411 - val_loss: 0.3685 - val_accuracy: 0.8280 - 1s/epoch - 2ms/step\n",
            "Epoch 39/50\n",
            "759/759 - 1s - loss: 0.3578 - accuracy: 0.8383 - val_loss: 0.3548 - val_accuracy: 0.8493 - 1s/epoch - 2ms/step\n",
            "Epoch 40/50\n",
            "759/759 - 1s - loss: 0.3577 - accuracy: 0.8407 - val_loss: 0.3545 - val_accuracy: 0.8375 - 1s/epoch - 2ms/step\n",
            "Epoch 41/50\n",
            "759/759 - 1s - loss: 0.3589 - accuracy: 0.8387 - val_loss: 0.3506 - val_accuracy: 0.8410 - 1s/epoch - 2ms/step\n",
            "Epoch 42/50\n",
            "759/759 - 1s - loss: 0.3553 - accuracy: 0.8391 - val_loss: 0.3541 - val_accuracy: 0.8387 - 1s/epoch - 2ms/step\n",
            "Epoch 43/50\n",
            "759/759 - 1s - loss: 0.3540 - accuracy: 0.8443 - val_loss: 0.3551 - val_accuracy: 0.8363 - 1s/epoch - 2ms/step\n",
            "Epoch 44/50\n",
            "759/759 - 1s - loss: 0.3545 - accuracy: 0.8418 - val_loss: 0.3488 - val_accuracy: 0.8541 - 1s/epoch - 2ms/step\n",
            "Epoch 45/50\n",
            "759/759 - 1s - loss: 0.3544 - accuracy: 0.8432 - val_loss: 0.3502 - val_accuracy: 0.8529 - 1s/epoch - 2ms/step\n",
            "Epoch 46/50\n",
            "759/759 - 1s - loss: 0.3532 - accuracy: 0.8414 - val_loss: 0.3551 - val_accuracy: 0.8327 - 1s/epoch - 2ms/step\n",
            "Epoch 47/50\n",
            "759/759 - 1s - loss: 0.3533 - accuracy: 0.8433 - val_loss: 0.3480 - val_accuracy: 0.8422 - 1s/epoch - 2ms/step\n",
            "Epoch 48/50\n",
            "759/759 - 1s - loss: 0.3538 - accuracy: 0.8404 - val_loss: 0.3490 - val_accuracy: 0.8493 - 1s/epoch - 2ms/step\n",
            "Epoch 49/50\n",
            "759/759 - 1s - loss: 0.3527 - accuracy: 0.8399 - val_loss: 0.3486 - val_accuracy: 0.8458 - 1s/epoch - 2ms/step\n",
            "Epoch 50/50\n",
            "759/759 - 1s - loss: 0.3508 - accuracy: 0.8445 - val_loss: 0.3479 - val_accuracy: 0.8458 - 1s/epoch - 2ms/step\n"
          ]
        },
        {
          "output_type": "execute_result",
          "data": {
            "text/plain": [
              "<keras.callbacks.History at 0x7faf6f67add0>"
            ]
          },
          "metadata": {},
          "execution_count": 148
        }
      ]
    },
    {
      "cell_type": "code",
      "source": [
        "predictions = model.predict(scaled_test_samples, batch_size=10, verbose=0)"
      ],
      "metadata": {
        "id": "oMj47T04uxKB"
      },
      "execution_count": null,
      "outputs": []
    },
    {
      "cell_type": "code",
      "source": [
        "\n",
        "expected_nerual_labels= []\n",
        "\n",
        "for p in predictions:\n",
        "  if p[0] > p[1]:\n",
        "    expected_nerual_labels.append(0)\n",
        "  else:\n",
        "    expected_nerual_labels.append(1)\n",
        "\n",
        "\n",
        "test_labels_numerical = []\n",
        "\n",
        "for num in test_labels:\n",
        "  if num == 'g':\n",
        "    test_labels_numerical.append(0)\n",
        "  else:\n",
        "    test_labels_numerical.append(1)\n",
        "\n"
      ],
      "metadata": {
        "id": "sFXIvnNExv40"
      },
      "execution_count": null,
      "outputs": []
    },
    {
      "cell_type": "code",
      "source": [
        "test_labels_numerical = np.array(test_labels_numerical)\n",
        "test_labels_numerical.shape\n",
        "\n",
        "test_labels.shape"
      ],
      "metadata": {
        "colab": {
          "base_uri": "https://localhost:8080/"
        },
        "id": "MYIuFgI9zT2T",
        "outputId": "e5b9f59f-5466-420f-850d-e74880f38b40"
      },
      "execution_count": null,
      "outputs": [
        {
          "output_type": "execute_result",
          "data": {
            "text/plain": [
              "(4013,)"
            ]
          },
          "metadata": {},
          "execution_count": 151
        }
      ]
    },
    {
      "cell_type": "code",
      "source": [
        "calc_accuracy(test_labels_numerical, expected_nerual_labels)"
      ],
      "metadata": {
        "colab": {
          "base_uri": "https://localhost:8080/"
        },
        "id": "p7yykScVxt0H",
        "outputId": "6ec760c2-d20b-4ab8-ba36-61bb39f8bcad"
      },
      "execution_count": null,
      "outputs": [
        {
          "output_type": "execute_result",
          "data": {
            "text/plain": [
              "0.8400199352105656"
            ]
          },
          "metadata": {},
          "execution_count": 152
        }
      ]
    }
  ]
}